{
 "cells": [
  {
   "cell_type": "code",
   "execution_count": 3,
   "id": "3654535f",
   "metadata": {},
   "outputs": [
    {
     "name": "stdout",
     "output_type": "stream",
     "text": [
      "Tom Cruise shoots film\n",
      "Tom Cruise says how are you?\n"
     ]
    }
   ],
   "source": [
    "class Human:\n",
    "    def __init__(self, n,o):\n",
    "# properties of a class: name and occupation\n",
    "        self.name=n\n",
    "        self.occupation=o\n",
    "    \n",
    "    def do_work(self):\n",
    "        if self.occupation==\"actor\":\n",
    "            print(self.name,\"shoots film\")\n",
    "        elif self.occupation==\"tennis player\":\n",
    "            print(self,name, \"playes tennis\")\n",
    "    def speaks(self):\n",
    "        if self.occupation==\"actor\":\n",
    "            print(self.name,\"says how are you?\")\n",
    "        elif self.occupation==\"tennis player\":\n",
    "            print(self.name,\"says how is the Josh?\")\n",
    "\n",
    "tom= Human(\"Tom Cruise\", \"actor\")\n",
    "tom.do_work()\n",
    "tom.speaks()\n",
    "\n",
    "        \n",
    "        "
   ]
  },
  {
   "cell_type": "code",
   "execution_count": null,
   "id": "6c24711c",
   "metadata": {},
   "outputs": [],
   "source": []
  }
 ],
 "metadata": {
  "kernelspec": {
   "display_name": "Python 3",
   "language": "python",
   "name": "python3"
  },
  "language_info": {
   "codemirror_mode": {
    "name": "ipython",
    "version": 3
   },
   "file_extension": ".py",
   "mimetype": "text/x-python",
   "name": "python",
   "nbconvert_exporter": "python",
   "pygments_lexer": "ipython3",
   "version": "3.8.8"
  }
 },
 "nbformat": 4,
 "nbformat_minor": 5
}
